{
 "cells": [
  {
   "cell_type": "code",
   "execution_count": 1,
   "id": "904cc9c6",
   "metadata": {},
   "outputs": [],
   "source": [
    "red = 'red-balloon.png'\n",
    "blue = 'blue-balloon.png'\n",
    "green = 'green-balloon.png'\n",
    "yellow = 'yellow-balloon.png'\n",
    "\n",
    "red_burst = 'red-burst.png'\n",
    "blue_burst = 'blue-burst.png'\n",
    "green_burst = 'green-burst.png'\n",
    "yellow_burst = 'yellow-burst.png'\n",
    "\n",
    "balloon_list = [red, blue, green, yellow]\n",
    "Balloon_tuple = [(red, red_burst), (blue, blue_burst), (green, green_burst), (yellow, yellow_burst)]"
   ]
  },
  {
   "cell_type": "code",
   "execution_count": 3,
   "id": "81a78934",
   "metadata": {},
   "outputs": [
    {
     "data": {
      "text/plain": [
       "'blue-balloon.png'"
      ]
     },
     "execution_count": 3,
     "metadata": {},
     "output_type": "execute_result"
    }
   ],
   "source": [
    "balloon_list[1]"
   ]
  },
  {
   "cell_type": "code",
   "execution_count": 48,
   "id": "257cc848",
   "metadata": {},
   "outputs": [
    {
     "data": {
      "text/plain": [
       "'red-balloon.png'"
      ]
     },
     "execution_count": 48,
     "metadata": {},
     "output_type": "execute_result"
    }
   ],
   "source": [
    "Balloon_tuple[0][0]"
   ]
  },
  {
   "cell_type": "code",
   "execution_count": 6,
   "id": "2d731f0f",
   "metadata": {},
   "outputs": [
    {
     "data": {
      "text/plain": [
       "'red-burst.png'"
      ]
     },
     "execution_count": 6,
     "metadata": {},
     "output_type": "execute_result"
    }
   ],
   "source": [
    "Balloon_tuple[0][1]"
   ]
  },
  {
   "cell_type": "code",
   "execution_count": 7,
   "id": "a5ff4d55",
   "metadata": {},
   "outputs": [],
   "source": [
    "import random"
   ]
  },
  {
   "cell_type": "code",
   "execution_count": 90,
   "id": "20db38fd",
   "metadata": {},
   "outputs": [
    {
     "name": "stdout",
     "output_type": "stream",
     "text": [
      "yellow-balloon.png\n"
     ]
    },
    {
     "data": {
      "text/plain": [
       "'yellow-burst.png'"
      ]
     },
     "execution_count": 90,
     "metadata": {},
     "output_type": "execute_result"
    }
   ],
   "source": [
    "value = random.randint(0,3)\n",
    "print(Balloon_tuple[value][0])\n",
    "Balloon_tuple[value][1]"
   ]
  },
  {
   "cell_type": "code",
   "execution_count": 111,
   "id": "dcd43161",
   "metadata": {},
   "outputs": [
    {
     "data": {
      "text/plain": [
       "'yellow-balloon.png'"
      ]
     },
     "execution_count": 111,
     "metadata": {},
     "output_type": "execute_result"
    }
   ],
   "source": [
    "Balloon_tuple[random.randint(0,3)][0]"
   ]
  }
 ],
 "metadata": {
  "kernelspec": {
   "display_name": "Python 3 (ipykernel)",
   "language": "python",
   "name": "python3"
  },
  "language_info": {
   "codemirror_mode": {
    "name": "ipython",
    "version": 3
   },
   "file_extension": ".py",
   "mimetype": "text/x-python",
   "name": "python",
   "nbconvert_exporter": "python",
   "pygments_lexer": "ipython3",
   "version": "3.10.2"
  }
 },
 "nbformat": 4,
 "nbformat_minor": 5
}
